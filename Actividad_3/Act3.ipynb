{
 "cells": [
  {
   "cell_type": "code",
   "execution_count": 1,
   "metadata": {
    "collapsed": true
   },
   "outputs": [],
   "source": [
    "#Cargar a la memoria de trabajo las bibliotecas: Pandas (manejo de datos, \n",
    "# Numpy (numerical python) y la biblioteca de gráficas Matplotlib\n",
    "# Se asignan nombres cortos.\n",
    "import pandas as pd\n",
    "import numpy as num\n",
    "import matplotlib.pyplot as plot"
   ]
  },
  {
   "cell_type": "code",
   "execution_count": 2,
   "metadata": {
    "collapsed": true
   },
   "outputs": [],
   "source": [
    "# Lee un archivo de texto con la función Pandas \"read_csv\", con elementos separados por mas de \n",
    "# un espacio, brincándose 4 renglones del inicio (encabezados)\n",
    "df0 = pd.read_csv('BrestD.txt', skiprows=3, sep='\\s+')\n",
    "df1 = pd.read_csv('BrestJ.txt', skiprows=3, sep='\\s+')\n",
    "# \"Shift + Enter\""
   ]
  },
  {
   "cell_type": "code",
   "execution_count": 3,
   "metadata": {},
   "outputs": [
    {
     "data": {
      "text/html": [
       "<div>\n",
       "<style>\n",
       "    .dataframe thead tr:only-child th {\n",
       "        text-align: right;\n",
       "    }\n",
       "\n",
       "    .dataframe thead th {\n",
       "        text-align: left;\n",
       "    }\n",
       "\n",
       "    .dataframe tbody tr th {\n",
       "        vertical-align: top;\n",
       "    }\n",
       "</style>\n",
       "<table border=\"1\" class=\"dataframe\">\n",
       "  <thead>\n",
       "    <tr style=\"text-align: right;\">\n",
       "      <th></th>\n",
       "      <th>PRES</th>\n",
       "      <th>HGHT</th>\n",
       "      <th>TEMP</th>\n",
       "      <th>DWPT</th>\n",
       "      <th>RELH</th>\n",
       "      <th>MIXR</th>\n",
       "      <th>DRCT</th>\n",
       "      <th>SKNT</th>\n",
       "      <th>THTA</th>\n",
       "      <th>THTE</th>\n",
       "      <th>THTV</th>\n",
       "    </tr>\n",
       "  </thead>\n",
       "  <tbody>\n",
       "    <tr>\n",
       "      <th>0</th>\n",
       "      <td>hPa</td>\n",
       "      <td>m</td>\n",
       "      <td>C</td>\n",
       "      <td>C</td>\n",
       "      <td>%</td>\n",
       "      <td>g/kg</td>\n",
       "      <td>deg</td>\n",
       "      <td>knot</td>\n",
       "      <td>K</td>\n",
       "      <td>K</td>\n",
       "      <td>K</td>\n",
       "    </tr>\n",
       "    <tr>\n",
       "      <th>1</th>\n",
       "      <td>----------------------------------------------...</td>\n",
       "      <td>NaN</td>\n",
       "      <td>NaN</td>\n",
       "      <td>NaN</td>\n",
       "      <td>NaN</td>\n",
       "      <td>NaN</td>\n",
       "      <td>NaN</td>\n",
       "      <td>NaN</td>\n",
       "      <td>NaN</td>\n",
       "      <td>NaN</td>\n",
       "      <td>NaN</td>\n",
       "    </tr>\n",
       "    <tr>\n",
       "      <th>2</th>\n",
       "      <td>1026.0</td>\n",
       "      <td>98</td>\n",
       "      <td>10.8</td>\n",
       "      <td>10.3</td>\n",
       "      <td>97</td>\n",
       "      <td>7.72</td>\n",
       "      <td>260</td>\n",
       "      <td>8</td>\n",
       "      <td>281.9</td>\n",
       "      <td>303.2</td>\n",
       "      <td>283.2</td>\n",
       "    </tr>\n",
       "    <tr>\n",
       "      <th>3</th>\n",
       "      <td>1022.0</td>\n",
       "      <td>130</td>\n",
       "      <td>11.2</td>\n",
       "      <td>7.3</td>\n",
       "      <td>77</td>\n",
       "      <td>6.31</td>\n",
       "      <td>261</td>\n",
       "      <td>8</td>\n",
       "      <td>282.6</td>\n",
       "      <td>300.2</td>\n",
       "      <td>283.7</td>\n",
       "    </tr>\n",
       "    <tr>\n",
       "      <th>4</th>\n",
       "      <td>1010.0</td>\n",
       "      <td>228</td>\n",
       "      <td>10.4</td>\n",
       "      <td>9.9</td>\n",
       "      <td>97</td>\n",
       "      <td>7.63</td>\n",
       "      <td>263</td>\n",
       "      <td>9</td>\n",
       "      <td>282.8</td>\n",
       "      <td>303.9</td>\n",
       "      <td>284.1</td>\n",
       "    </tr>\n",
       "  </tbody>\n",
       "</table>\n",
       "</div>"
      ],
      "text/plain": [
       "                                                PRES HGHT  TEMP  DWPT RELH  \\\n",
       "0                                                hPa    m     C     C    %   \n",
       "1  ----------------------------------------------...  NaN   NaN   NaN  NaN   \n",
       "2                                             1026.0   98  10.8  10.3   97   \n",
       "3                                             1022.0  130  11.2   7.3   77   \n",
       "4                                             1010.0  228  10.4   9.9   97   \n",
       "\n",
       "   MIXR DRCT  SKNT   THTA   THTE   THTV  \n",
       "0  g/kg  deg  knot      K      K      K  \n",
       "1   NaN  NaN   NaN    NaN    NaN    NaN  \n",
       "2  7.72  260     8  281.9  303.2  283.2  \n",
       "3  6.31  261     8  282.6  300.2  283.7  \n",
       "4  7.63  263     9  282.8  303.9  284.1  "
      ]
     },
     "execution_count": 3,
     "metadata": {},
     "output_type": "execute_result"
    }
   ],
   "source": [
    "df0.head()"
   ]
  },
  {
   "cell_type": "code",
   "execution_count": 4,
   "metadata": {},
   "outputs": [
    {
     "data": {
      "text/html": [
       "<div>\n",
       "<style>\n",
       "    .dataframe thead tr:only-child th {\n",
       "        text-align: right;\n",
       "    }\n",
       "\n",
       "    .dataframe thead th {\n",
       "        text-align: left;\n",
       "    }\n",
       "\n",
       "    .dataframe tbody tr th {\n",
       "        vertical-align: top;\n",
       "    }\n",
       "</style>\n",
       "<table border=\"1\" class=\"dataframe\">\n",
       "  <thead>\n",
       "    <tr style=\"text-align: right;\">\n",
       "      <th></th>\n",
       "      <th>PRES</th>\n",
       "      <th>HGHT</th>\n",
       "      <th>TEMP</th>\n",
       "      <th>DWPT</th>\n",
       "      <th>RELH</th>\n",
       "      <th>MIXR</th>\n",
       "      <th>DRCT</th>\n",
       "      <th>SKNT</th>\n",
       "      <th>THTA</th>\n",
       "      <th>THTE</th>\n",
       "      <th>THTV</th>\n",
       "    </tr>\n",
       "  </thead>\n",
       "  <tbody>\n",
       "    <tr>\n",
       "      <th>0</th>\n",
       "      <td>hPa</td>\n",
       "      <td>m</td>\n",
       "      <td>C</td>\n",
       "      <td>C</td>\n",
       "      <td>%</td>\n",
       "      <td>g/kg</td>\n",
       "      <td>deg</td>\n",
       "      <td>knot</td>\n",
       "      <td>K</td>\n",
       "      <td>K</td>\n",
       "      <td>K</td>\n",
       "    </tr>\n",
       "    <tr>\n",
       "      <th>1</th>\n",
       "      <td>----------------------------------------------...</td>\n",
       "      <td>NaN</td>\n",
       "      <td>NaN</td>\n",
       "      <td>NaN</td>\n",
       "      <td>NaN</td>\n",
       "      <td>NaN</td>\n",
       "      <td>NaN</td>\n",
       "      <td>NaN</td>\n",
       "      <td>NaN</td>\n",
       "      <td>NaN</td>\n",
       "      <td>NaN</td>\n",
       "    </tr>\n",
       "    <tr>\n",
       "      <th>2</th>\n",
       "      <td>1006.0</td>\n",
       "      <td>98</td>\n",
       "      <td>21.2</td>\n",
       "      <td>14.2</td>\n",
       "      <td>64</td>\n",
       "      <td>10.21</td>\n",
       "      <td>295</td>\n",
       "      <td>5</td>\n",
       "      <td>293.9</td>\n",
       "      <td>323.3</td>\n",
       "      <td>295.6</td>\n",
       "    </tr>\n",
       "    <tr>\n",
       "      <th>3</th>\n",
       "      <td>1000.0</td>\n",
       "      <td>146</td>\n",
       "      <td>19.2</td>\n",
       "      <td>14.2</td>\n",
       "      <td>73</td>\n",
       "      <td>10.28</td>\n",
       "      <td>290</td>\n",
       "      <td>6</td>\n",
       "      <td>292.4</td>\n",
       "      <td>321.8</td>\n",
       "      <td>294.2</td>\n",
       "    </tr>\n",
       "    <tr>\n",
       "      <th>4</th>\n",
       "      <td>999.0</td>\n",
       "      <td>155</td>\n",
       "      <td>18.8</td>\n",
       "      <td>13.9</td>\n",
       "      <td>73</td>\n",
       "      <td>10.09</td>\n",
       "      <td>290</td>\n",
       "      <td>6</td>\n",
       "      <td>292.0</td>\n",
       "      <td>320.9</td>\n",
       "      <td>293.8</td>\n",
       "    </tr>\n",
       "  </tbody>\n",
       "</table>\n",
       "</div>"
      ],
      "text/plain": [
       "                                                PRES HGHT  TEMP  DWPT RELH  \\\n",
       "0                                                hPa    m     C     C    %   \n",
       "1  ----------------------------------------------...  NaN   NaN   NaN  NaN   \n",
       "2                                             1006.0   98  21.2  14.2   64   \n",
       "3                                             1000.0  146  19.2  14.2   73   \n",
       "4                                              999.0  155  18.8  13.9   73   \n",
       "\n",
       "    MIXR DRCT  SKNT   THTA   THTE   THTV  \n",
       "0   g/kg  deg  knot      K      K      K  \n",
       "1    NaN  NaN   NaN    NaN    NaN    NaN  \n",
       "2  10.21  295     5  293.9  323.3  295.6  \n",
       "3  10.28  290     6  292.4  321.8  294.2  \n",
       "4  10.09  290     6  292.0  320.9  293.8  "
      ]
     },
     "execution_count": 4,
     "metadata": {},
     "output_type": "execute_result"
    }
   ],
   "source": [
    "df1.head()"
   ]
  },
  {
   "cell_type": "code",
   "execution_count": 5,
   "metadata": {
    "collapsed": true
   },
   "outputs": [],
   "source": [
    "#Elimina columnas de datos, en este caso son renglones\n",
    "dfD=df0.drop(df0.index[[0,1]])"
   ]
  },
  {
   "cell_type": "code",
   "execution_count": 6,
   "metadata": {
    "collapsed": true
   },
   "outputs": [],
   "source": [
    "dfJ=df1.drop(df1.index[[0,1]])"
   ]
  },
  {
   "cell_type": "code",
   "execution_count": 7,
   "metadata": {},
   "outputs": [
    {
     "data": {
      "text/html": [
       "<div>\n",
       "<style>\n",
       "    .dataframe thead tr:only-child th {\n",
       "        text-align: right;\n",
       "    }\n",
       "\n",
       "    .dataframe thead th {\n",
       "        text-align: left;\n",
       "    }\n",
       "\n",
       "    .dataframe tbody tr th {\n",
       "        vertical-align: top;\n",
       "    }\n",
       "</style>\n",
       "<table border=\"1\" class=\"dataframe\">\n",
       "  <thead>\n",
       "    <tr style=\"text-align: right;\">\n",
       "      <th></th>\n",
       "      <th>PRES</th>\n",
       "      <th>HGHT</th>\n",
       "      <th>TEMP</th>\n",
       "      <th>DWPT</th>\n",
       "      <th>RELH</th>\n",
       "      <th>MIXR</th>\n",
       "      <th>DRCT</th>\n",
       "      <th>SKNT</th>\n",
       "      <th>THTA</th>\n",
       "      <th>THTE</th>\n",
       "      <th>THTV</th>\n",
       "    </tr>\n",
       "  </thead>\n",
       "  <tbody>\n",
       "    <tr>\n",
       "      <th>2</th>\n",
       "      <td>1026.0</td>\n",
       "      <td>98</td>\n",
       "      <td>10.8</td>\n",
       "      <td>10.3</td>\n",
       "      <td>97</td>\n",
       "      <td>7.72</td>\n",
       "      <td>260</td>\n",
       "      <td>8</td>\n",
       "      <td>281.9</td>\n",
       "      <td>303.2</td>\n",
       "      <td>283.2</td>\n",
       "    </tr>\n",
       "    <tr>\n",
       "      <th>3</th>\n",
       "      <td>1022.0</td>\n",
       "      <td>130</td>\n",
       "      <td>11.2</td>\n",
       "      <td>7.3</td>\n",
       "      <td>77</td>\n",
       "      <td>6.31</td>\n",
       "      <td>261</td>\n",
       "      <td>8</td>\n",
       "      <td>282.6</td>\n",
       "      <td>300.2</td>\n",
       "      <td>283.7</td>\n",
       "    </tr>\n",
       "    <tr>\n",
       "      <th>4</th>\n",
       "      <td>1010.0</td>\n",
       "      <td>228</td>\n",
       "      <td>10.4</td>\n",
       "      <td>9.9</td>\n",
       "      <td>97</td>\n",
       "      <td>7.63</td>\n",
       "      <td>263</td>\n",
       "      <td>9</td>\n",
       "      <td>282.8</td>\n",
       "      <td>303.9</td>\n",
       "      <td>284.1</td>\n",
       "    </tr>\n",
       "    <tr>\n",
       "      <th>5</th>\n",
       "      <td>1000.0</td>\n",
       "      <td>310</td>\n",
       "      <td>10.0</td>\n",
       "      <td>9.5</td>\n",
       "      <td>97</td>\n",
       "      <td>7.50</td>\n",
       "      <td>265</td>\n",
       "      <td>9</td>\n",
       "      <td>283.1</td>\n",
       "      <td>304.0</td>\n",
       "      <td>284.4</td>\n",
       "    </tr>\n",
       "    <tr>\n",
       "      <th>6</th>\n",
       "      <td>925.0</td>\n",
       "      <td>955</td>\n",
       "      <td>6.6</td>\n",
       "      <td>6.0</td>\n",
       "      <td>96</td>\n",
       "      <td>6.38</td>\n",
       "      <td>285</td>\n",
       "      <td>11</td>\n",
       "      <td>286.1</td>\n",
       "      <td>304.1</td>\n",
       "      <td>287.1</td>\n",
       "    </tr>\n",
       "  </tbody>\n",
       "</table>\n",
       "</div>"
      ],
      "text/plain": [
       "     PRES HGHT  TEMP  DWPT RELH  MIXR DRCT SKNT   THTA   THTE   THTV\n",
       "2  1026.0   98  10.8  10.3   97  7.72  260    8  281.9  303.2  283.2\n",
       "3  1022.0  130  11.2   7.3   77  6.31  261    8  282.6  300.2  283.7\n",
       "4  1010.0  228  10.4   9.9   97  7.63  263    9  282.8  303.9  284.1\n",
       "5  1000.0  310  10.0   9.5   97  7.50  265    9  283.1  304.0  284.4\n",
       "6   925.0  955   6.6   6.0   96  6.38  285   11  286.1  304.1  287.1"
      ]
     },
     "execution_count": 7,
     "metadata": {},
     "output_type": "execute_result"
    }
   ],
   "source": [
    "dfD.head()"
   ]
  },
  {
   "cell_type": "code",
   "execution_count": 8,
   "metadata": {},
   "outputs": [
    {
     "data": {
      "text/html": [
       "<div>\n",
       "<style>\n",
       "    .dataframe thead tr:only-child th {\n",
       "        text-align: right;\n",
       "    }\n",
       "\n",
       "    .dataframe thead th {\n",
       "        text-align: left;\n",
       "    }\n",
       "\n",
       "    .dataframe tbody tr th {\n",
       "        vertical-align: top;\n",
       "    }\n",
       "</style>\n",
       "<table border=\"1\" class=\"dataframe\">\n",
       "  <thead>\n",
       "    <tr style=\"text-align: right;\">\n",
       "      <th></th>\n",
       "      <th>PRES</th>\n",
       "      <th>HGHT</th>\n",
       "      <th>TEMP</th>\n",
       "      <th>DWPT</th>\n",
       "      <th>RELH</th>\n",
       "      <th>MIXR</th>\n",
       "      <th>DRCT</th>\n",
       "      <th>SKNT</th>\n",
       "      <th>THTA</th>\n",
       "      <th>THTE</th>\n",
       "      <th>THTV</th>\n",
       "    </tr>\n",
       "  </thead>\n",
       "  <tbody>\n",
       "    <tr>\n",
       "      <th>2</th>\n",
       "      <td>1006.0</td>\n",
       "      <td>98</td>\n",
       "      <td>21.2</td>\n",
       "      <td>14.2</td>\n",
       "      <td>64</td>\n",
       "      <td>10.21</td>\n",
       "      <td>295</td>\n",
       "      <td>5</td>\n",
       "      <td>293.9</td>\n",
       "      <td>323.3</td>\n",
       "      <td>295.6</td>\n",
       "    </tr>\n",
       "    <tr>\n",
       "      <th>3</th>\n",
       "      <td>1000.0</td>\n",
       "      <td>146</td>\n",
       "      <td>19.2</td>\n",
       "      <td>14.2</td>\n",
       "      <td>73</td>\n",
       "      <td>10.28</td>\n",
       "      <td>290</td>\n",
       "      <td>6</td>\n",
       "      <td>292.4</td>\n",
       "      <td>321.8</td>\n",
       "      <td>294.2</td>\n",
       "    </tr>\n",
       "    <tr>\n",
       "      <th>4</th>\n",
       "      <td>999.0</td>\n",
       "      <td>155</td>\n",
       "      <td>18.8</td>\n",
       "      <td>13.9</td>\n",
       "      <td>73</td>\n",
       "      <td>10.09</td>\n",
       "      <td>290</td>\n",
       "      <td>6</td>\n",
       "      <td>292.0</td>\n",
       "      <td>320.9</td>\n",
       "      <td>293.8</td>\n",
       "    </tr>\n",
       "    <tr>\n",
       "      <th>5</th>\n",
       "      <td>925.0</td>\n",
       "      <td>809</td>\n",
       "      <td>12.6</td>\n",
       "      <td>11.3</td>\n",
       "      <td>92</td>\n",
       "      <td>9.17</td>\n",
       "      <td>280</td>\n",
       "      <td>17</td>\n",
       "      <td>292.2</td>\n",
       "      <td>318.5</td>\n",
       "      <td>293.8</td>\n",
       "    </tr>\n",
       "    <tr>\n",
       "      <th>6</th>\n",
       "      <td>904.0</td>\n",
       "      <td>1001</td>\n",
       "      <td>10.6</td>\n",
       "      <td>10.3</td>\n",
       "      <td>98</td>\n",
       "      <td>8.77</td>\n",
       "      <td>276</td>\n",
       "      <td>21</td>\n",
       "      <td>292.1</td>\n",
       "      <td>317.2</td>\n",
       "      <td>293.6</td>\n",
       "    </tr>\n",
       "  </tbody>\n",
       "</table>\n",
       "</div>"
      ],
      "text/plain": [
       "     PRES  HGHT  TEMP  DWPT RELH   MIXR DRCT SKNT   THTA   THTE   THTV\n",
       "2  1006.0    98  21.2  14.2   64  10.21  295    5  293.9  323.3  295.6\n",
       "3  1000.0   146  19.2  14.2   73  10.28  290    6  292.4  321.8  294.2\n",
       "4   999.0   155  18.8  13.9   73  10.09  290    6  292.0  320.9  293.8\n",
       "5   925.0   809  12.6  11.3   92   9.17  280   17  292.2  318.5  293.8\n",
       "6   904.0  1001  10.6  10.3   98   8.77  276   21  292.1  317.2  293.6"
      ]
     },
     "execution_count": 8,
     "metadata": {},
     "output_type": "execute_result"
    }
   ],
   "source": [
    "dfJ.head()"
   ]
  },
  {
   "cell_type": "code",
   "execution_count": 9,
   "metadata": {
    "collapsed": true
   },
   "outputs": [],
   "source": [
    "# Dar estructura de datos (DataFrame)\n",
    "dfD1 = pd.DataFrame(dfD)\n",
    "dfJ1 = pd.DataFrame(dfJ)"
   ]
  },
  {
   "cell_type": "code",
   "execution_count": 10,
   "metadata": {
    "collapsed": true
   },
   "outputs": [],
   "source": [
    "#Cambio de nombre de cada una de las columnas.\n",
    "dfD1.PRES=pd.to_numeric(dfD1.PRES, errors='raise', downcast=None)\n",
    "dfJ1.PRES=pd.to_numeric(dfJ1.PRES, errors='raise', downcast=None)"
   ]
  },
  {
   "cell_type": "code",
   "execution_count": 11,
   "metadata": {
    "collapsed": true
   },
   "outputs": [],
   "source": [
    "dfD1.HGHT=pd.to_numeric(dfD1.HGHT, errors='raise', downcast=None)\n",
    "dfJ1.HGHT=pd.to_numeric(dfJ1.HGHT, errors='raise', downcast=None)"
   ]
  },
  {
   "cell_type": "code",
   "execution_count": 12,
   "metadata": {
    "collapsed": true
   },
   "outputs": [],
   "source": [
    "dfD1.TEMP=pd.to_numeric(dfD1.TEMP, errors='raise', downcast=None)\n",
    "dfJ1.TEMP=pd.to_numeric(dfJ1.TEMP, errors='raise', downcast=None)"
   ]
  },
  {
   "cell_type": "code",
   "execution_count": 13,
   "metadata": {
    "collapsed": true
   },
   "outputs": [],
   "source": [
    "dfD1.DWPT=pd.to_numeric(dfD1.DWPT, errors='raise', downcast=None)\n",
    "dfJ1.DWPT=pd.to_numeric(dfJ1.DWPT, errors='raise', downcast=None)"
   ]
  },
  {
   "cell_type": "code",
   "execution_count": 14,
   "metadata": {
    "collapsed": true
   },
   "outputs": [],
   "source": [
    "dfD1.RELH=pd.to_numeric(dfD1.RELH, errors='raise', downcast=None)\n",
    "dfJ1.RELH=pd.to_numeric(dfJ1.RELH, errors='raise', downcast=None)"
   ]
  },
  {
   "cell_type": "code",
   "execution_count": 15,
   "metadata": {
    "collapsed": true
   },
   "outputs": [],
   "source": [
    "dfD1.MIXR=pd.to_numeric(dfD1.MIXR, errors='raise', downcast=None)\n",
    "dfJ1.MIXR=pd.to_numeric(dfJ1.MIXR, errors='raise', downcast=None)"
   ]
  },
  {
   "cell_type": "code",
   "execution_count": 16,
   "metadata": {
    "collapsed": true
   },
   "outputs": [],
   "source": [
    "dfD1.MIXR=pd.to_numeric(dfD1.MIXR, errors='raise', downcast=None)\n",
    "dfJ1.MIXR=pd.to_numeric(dfJ1.MIXR, errors='raise', downcast=None)"
   ]
  },
  {
   "cell_type": "code",
   "execution_count": 17,
   "metadata": {
    "collapsed": true
   },
   "outputs": [],
   "source": [
    "dfD1.DRCT=pd.to_numeric(dfD1.DRCT, errors='raise', downcast=None)\n",
    "dfJ1.DRCT=pd.to_numeric(dfJ1.DRCT, errors='raise', downcast=None)"
   ]
  },
  {
   "cell_type": "code",
   "execution_count": 18,
   "metadata": {
    "collapsed": true
   },
   "outputs": [],
   "source": [
    "dfD1.SKNT=pd.to_numeric(dfD1.SKNT, errors='raise', downcast=None)\n",
    "dfJ1.SKNT=pd.to_numeric(dfJ1.SKNT, errors='raise', downcast=None)"
   ]
  },
  {
   "cell_type": "code",
   "execution_count": 19,
   "metadata": {
    "collapsed": true
   },
   "outputs": [],
   "source": [
    "# Dar estructura de datos (DataFrame)\n",
    "dfD1 = pd.DataFrame(dfD1)\n",
    "dfJ1 = pd.DataFrame(dfJ1)"
   ]
  },
  {
   "cell_type": "code",
   "execution_count": 20,
   "metadata": {},
   "outputs": [
    {
     "data": {
      "text/plain": [
       "PRES    float64\n",
       "HGHT      int64\n",
       "TEMP    float64\n",
       "DWPT    float64\n",
       "RELH      int64\n",
       "MIXR    float64\n",
       "DRCT    float64\n",
       "SKNT    float64\n",
       "THTA     object\n",
       "THTE     object\n",
       "THTV     object\n",
       "dtype: object"
      ]
     },
     "execution_count": 20,
     "metadata": {},
     "output_type": "execute_result"
    }
   ],
   "source": [
    "dfD1.dtypes"
   ]
  },
  {
   "cell_type": "code",
   "execution_count": 21,
   "metadata": {},
   "outputs": [
    {
     "data": {
      "text/plain": [
       "PRES    float64\n",
       "HGHT      int64\n",
       "TEMP    float64\n",
       "DWPT    float64\n",
       "RELH      int64\n",
       "MIXR    float64\n",
       "DRCT      int64\n",
       "SKNT      int64\n",
       "THTA     object\n",
       "THTE     object\n",
       "THTV     object\n",
       "dtype: object"
      ]
     },
     "execution_count": 21,
     "metadata": {},
     "output_type": "execute_result"
    }
   ],
   "source": [
    "dfJ1.dtypes"
   ]
  },
  {
   "cell_type": "code",
   "execution_count": 28,
   "metadata": {},
   "outputs": [
    {
     "data": {
      "text/plain": [
       "<matplotlib.figure.Figure at 0x7fd0636e2630>"
      ]
     },
     "metadata": {},
     "output_type": "display_data"
    },
    {
     "data": {
      "text/plain": [
       "<matplotlib.figure.Figure at 0x7fd05c52efd0>"
      ]
     },
     "metadata": {},
     "output_type": "display_data"
    },
    {
     "data": {
      "image/png": "[encoded data removed]",
      "text/plain": [
       "<matplotlib.figure.Figure at 0x7fd05c532828>"
      ]
     },
     "metadata": {},
     "output_type": "display_data"
    },
    {
     "data": {
      "text/plain": [
       "<matplotlib.figure.Figure at 0x7fd05c52ef98>"
      ]
     },
     "metadata": {},
     "output_type": "display_data"
    },
    {
     "data": {
      "image/png": "[encoded data removed]",
      "text/plain": [
       "<matplotlib.figure.Figure at 0x7fd05c454550>"
      ]
     },
     "metadata": {},
     "output_type": "display_data"
    }
   ],
   "source": [
    "df01 = dfD1[['HGHT','PRES']]\n",
    "plot.figure(); df01.plot(x='HGHT'); plot.legend(loc='best')\n",
    "plot.title('Variación de la presion en funcion de la altura Diciembre')\n",
    "plot.ylabel('Presión (hPa)')\n",
    "plot.xlabel('Altura (m)') \n",
    "plot.grid(True)\n",
    "plot.show()"
   ]
  },
  {
   "cell_type": "code",
   "execution_count": 29,
   "metadata": {},
   "outputs": [
    {
     "data": {
      "text/plain": [
       "<matplotlib.figure.Figure at 0x7fd05c3b88d0>"
      ]
     },
     "metadata": {},
     "output_type": "display_data"
    },
    {
     "data": {
      "image/png": "[encoded data removed]",
      "text/plain": [
       "<matplotlib.figure.Figure at 0x7fd05c425550>"
      ]
     },
     "metadata": {},
     "output_type": "display_data"
    }
   ],
   "source": [
    "df02 = dfJ1[['HGHT','PRES']]\n",
    "plot.figure(); df01.plot(x='HGHT'); plot.legend(loc='best')\n",
    "plot.title('Variación de la presion en funcion de la altura Diciembre')\n",
    "plot.ylabel('Presión (hPa)')\n",
    "plot.xlabel('Altura (m)') \n",
    "plot.grid(True)\n",
    "plot.show()"
   ]
  },
  {
   "cell_type": "code",
   "execution_count": 31,
   "metadata": {},
   "outputs": [
    {
     "data": {
      "text/plain": [
       "<matplotlib.figure.Figure at 0x7fd05c44c160>"
      ]
     },
     "metadata": {},
     "output_type": "display_data"
    },
    {
     "data": {
      "image/png": "[encoded data removed]",
      "text/plain": [
       "<matplotlib.figure.Figure at 0x7fd05c328748>"
      ]
     },
     "metadata": {},
     "output_type": "display_data"
    }
   ],
   "source": [
    "df01 = dfD1[['SKNT']]\n",
    "plot.figure(); df01.plot(y='SKNT'); plot.legend(loc='best')\n",
    "plot.title('Variación de la rapidez de los vientos')\n",
    "plot.ylabel('Rapidez')\n",
    "plot.xlabel('Nudos') \n",
    "plot.grid(True)\n",
    "plot.show()"
   ]
  },
  {
   "cell_type": "code",
   "execution_count": 32,
   "metadata": {},
   "outputs": [
    {
     "data": {
      "text/plain": [
       "<matplotlib.figure.Figure at 0x7fd05c2a4198>"
      ]
     },
     "metadata": {},
     "output_type": "display_data"
    },
    {
     "data": {
      "image/png": "[encoded data removed]",
      "text/plain": [
       "<matplotlib.figure.Figure at 0x7fd05c28c9e8>"
      ]
     },
     "metadata": {},
     "output_type": "display_data"
    }
   ],
   "source": [
    "df01 = dfJ1[['SKNT']]\n",
    "plot.figure(); df01.plot(y='SKNT'); plot.legend(loc='best')\n",
    "plot.title('Variación de la rapidez de los vientos')\n",
    "plot.ylabel('Rapidez')\n",
    "plot.xlabel('Nudos') \n",
    "plot.grid(True)\n",
    "plot.show()"
   ]
  },
  {
   "cell_type": "code",
   "execution_count": 34,
   "metadata": {},
   "outputs": [
    {
     "data": {
      "text/plain": [
       "<matplotlib.figure.Figure at 0x7fd05c2b0518>"
      ]
     },
     "metadata": {},
     "output_type": "display_data"
    },
    {
     "data": {
      "image/png": "[encoded data removed]",
      "text/plain": [
       "<matplotlib.figure.Figure at 0x7fd05c24b080>"
      ]
     },
     "metadata": {},
     "output_type": "display_data"
    }
   ],
   "source": [
    "df01 = dfD1[['HGHT','RELH']]\n",
    "plot.figure(); df01.plot(y='HGHT'); plot.legend(loc='best')\n",
    "plot.title('Variación de la humedad relativa en función de la altura')\n",
    "plot.ylabel('Humedad %')\n",
    "plot.xlabel('Altura (m)') \n",
    "plot.grid(True)\n",
    "plot.show()"
   ]
  },
  {
   "cell_type": "code",
   "execution_count": 38,
   "metadata": {},
   "outputs": [
    {
     "data": {
      "text/plain": [
       "<matplotlib.figure.Figure at 0x7fd05c291160>"
      ]
     },
     "metadata": {},
     "output_type": "display_data"
    },
    {
     "data": {
      "image/png": "[encoded data removed]",
      "text/plain": [
       "<matplotlib.figure.Figure at 0x7fd05c2605f8>"
      ]
     },
     "metadata": {},
     "output_type": "display_data"
    }
   ],
   "source": [
    "df01 = dfJ1[['HGHT','RELH']]\n",
    "plot.figure(); df01.plot(y='HGHT'); plot.legend(loc='best')\n",
    "plot.title('Variación de la humedad relativa en función de la altura')\n",
    "plot.ylabel('Humedad %')\n",
    "plot.xlabel('Altura (m)') \n",
    "plot.grid(True)\n",
    "plot.show()"
   ]
  },
  {
   "cell_type": "code",
   "execution_count": 39,
   "metadata": {},
   "outputs": [
    {
     "data": {
      "text/html": [
       "<div>\n",
       "<style>\n",
       "    .dataframe thead tr:only-child th {\n",
       "        text-align: right;\n",
       "    }\n",
       "\n",
       "    .dataframe thead th {\n",
       "        text-align: left;\n",
       "    }\n",
       "\n",
       "    .dataframe tbody tr th {\n",
       "        vertical-align: top;\n",
       "    }\n",
       "</style>\n",
       "<table border=\"1\" class=\"dataframe\">\n",
       "  <thead>\n",
       "    <tr style=\"text-align: right;\">\n",
       "      <th></th>\n",
       "      <th>PRES</th>\n",
       "      <th>HGHT</th>\n",
       "      <th>TEMP</th>\n",
       "      <th>DWPT</th>\n",
       "      <th>RELH</th>\n",
       "      <th>MIXR</th>\n",
       "      <th>DRCT</th>\n",
       "      <th>SKNT</th>\n",
       "    </tr>\n",
       "  </thead>\n",
       "  <tbody>\n",
       "    <tr>\n",
       "      <th>count</th>\n",
       "      <td>71.000000</td>\n",
       "      <td>71.000000</td>\n",
       "      <td>71.000000</td>\n",
       "      <td>71.000000</td>\n",
       "      <td>71.000000</td>\n",
       "      <td>71.000000</td>\n",
       "      <td>71.000000</td>\n",
       "      <td>71.000000</td>\n",
       "    </tr>\n",
       "    <tr>\n",
       "      <th>mean</th>\n",
       "      <td>259.257746</td>\n",
       "      <td>16407.352113</td>\n",
       "      <td>-48.774648</td>\n",
       "      <td>-66.522535</td>\n",
       "      <td>24.154930</td>\n",
       "      <td>0.949155</td>\n",
       "      <td>237.846479</td>\n",
       "      <td>55.159155</td>\n",
       "    </tr>\n",
       "    <tr>\n",
       "      <th>std</th>\n",
       "      <td>310.834576</td>\n",
       "      <td>10738.156332</td>\n",
       "      <td>27.830249</td>\n",
       "      <td>36.288633</td>\n",
       "      <td>31.665054</td>\n",
       "      <td>2.138889</td>\n",
       "      <td>148.155853</td>\n",
       "      <td>103.763204</td>\n",
       "    </tr>\n",
       "    <tr>\n",
       "      <th>min</th>\n",
       "      <td>4.000000</td>\n",
       "      <td>98.000000</td>\n",
       "      <td>-82.100000</td>\n",
       "      <td>-100.100000</td>\n",
       "      <td>0.000000</td>\n",
       "      <td>0.000000</td>\n",
       "      <td>0.000000</td>\n",
       "      <td>8.000000</td>\n",
       "    </tr>\n",
       "    <tr>\n",
       "      <th>25%</th>\n",
       "      <td>20.500000</td>\n",
       "      <td>7077.500000</td>\n",
       "      <td>-70.000000</td>\n",
       "      <td>-96.000000</td>\n",
       "      <td>1.000000</td>\n",
       "      <td>0.000000</td>\n",
       "      <td>35.000000</td>\n",
       "      <td>26.000000</td>\n",
       "    </tr>\n",
       "    <tr>\n",
       "      <th>50%</th>\n",
       "      <td>136.000000</td>\n",
       "      <td>14299.000000</td>\n",
       "      <td>-60.000000</td>\n",
       "      <td>-79.700000</td>\n",
       "      <td>7.000000</td>\n",
       "      <td>0.010000</td>\n",
       "      <td>290.000000</td>\n",
       "      <td>33.000000</td>\n",
       "    </tr>\n",
       "    <tr>\n",
       "      <th>75%</th>\n",
       "      <td>419.000000</td>\n",
       "      <td>25588.000000</td>\n",
       "      <td>-30.000000</td>\n",
       "      <td>-46.500000</td>\n",
       "      <td>35.000000</td>\n",
       "      <td>0.150000</td>\n",
       "      <td>319.500000</td>\n",
       "      <td>49.000000</td>\n",
       "    </tr>\n",
       "    <tr>\n",
       "      <th>max</th>\n",
       "      <td>1026.000000</td>\n",
       "      <td>35518.000000</td>\n",
       "      <td>11.200000</td>\n",
       "      <td>10.300000</td>\n",
       "      <td>99.000000</td>\n",
       "      <td>7.720000</td>\n",
       "      <td>696.700000</td>\n",
       "      <td>696.900000</td>\n",
       "    </tr>\n",
       "  </tbody>\n",
       "</table>\n",
       "</div>"
      ],
      "text/plain": [
       "              PRES          HGHT       TEMP        DWPT       RELH       MIXR  \\\n",
       "count    71.000000     71.000000  71.000000   71.000000  71.000000  71.000000   \n",
       "mean    259.257746  16407.352113 -48.774648  -66.522535  24.154930   0.949155   \n",
       "std     310.834576  10738.156332  27.830249   36.288633  31.665054   2.138889   \n",
       "min       4.000000     98.000000 -82.100000 -100.100000   0.000000   0.000000   \n",
       "25%      20.500000   7077.500000 -70.000000  -96.000000   1.000000   0.000000   \n",
       "50%     136.000000  14299.000000 -60.000000  -79.700000   7.000000   0.010000   \n",
       "75%     419.000000  25588.000000 -30.000000  -46.500000  35.000000   0.150000   \n",
       "max    1026.000000  35518.000000  11.200000   10.300000  99.000000   7.720000   \n",
       "\n",
       "             DRCT        SKNT  \n",
       "count   71.000000   71.000000  \n",
       "mean   237.846479   55.159155  \n",
       "std    148.155853  103.763204  \n",
       "min      0.000000    8.000000  \n",
       "25%     35.000000   26.000000  \n",
       "50%    290.000000   33.000000  \n",
       "75%    319.500000   49.000000  \n",
       "max    696.700000  696.900000  "
      ]
     },
     "execution_count": 39,
     "metadata": {},
     "output_type": "execute_result"
    }
   ],
   "source": [
    "dfD1.describe()"
   ]
  },
  {
   "cell_type": "code",
   "execution_count": 40,
   "metadata": {},
   "outputs": [
    {
     "data": {
      "text/html": [
       "<div>\n",
       "<style>\n",
       "    .dataframe thead tr:only-child th {\n",
       "        text-align: right;\n",
       "    }\n",
       "\n",
       "    .dataframe thead th {\n",
       "        text-align: left;\n",
       "    }\n",
       "\n",
       "    .dataframe tbody tr th {\n",
       "        vertical-align: top;\n",
       "    }\n",
       "</style>\n",
       "<table border=\"1\" class=\"dataframe\">\n",
       "  <thead>\n",
       "    <tr style=\"text-align: right;\">\n",
       "      <th></th>\n",
       "      <th>PRES</th>\n",
       "      <th>HGHT</th>\n",
       "      <th>TEMP</th>\n",
       "      <th>DWPT</th>\n",
       "      <th>RELH</th>\n",
       "      <th>MIXR</th>\n",
       "      <th>DRCT</th>\n",
       "      <th>SKNT</th>\n",
       "    </tr>\n",
       "  </thead>\n",
       "  <tbody>\n",
       "    <tr>\n",
       "      <th>count</th>\n",
       "      <td>71.000000</td>\n",
       "      <td>71.000000</td>\n",
       "      <td>71.000000</td>\n",
       "      <td>71.000000</td>\n",
       "      <td>71.000000</td>\n",
       "      <td>71.000000</td>\n",
       "      <td>71.000000</td>\n",
       "      <td>71.000000</td>\n",
       "    </tr>\n",
       "    <tr>\n",
       "      <th>mean</th>\n",
       "      <td>306.752113</td>\n",
       "      <td>14651.605634</td>\n",
       "      <td>-31.460563</td>\n",
       "      <td>-52.661972</td>\n",
       "      <td>23.126761</td>\n",
       "      <td>1.737324</td>\n",
       "      <td>199.760563</td>\n",
       "      <td>27.605634</td>\n",
       "    </tr>\n",
       "    <tr>\n",
       "      <th>std</th>\n",
       "      <td>327.126598</td>\n",
       "      <td>10264.059724</td>\n",
       "      <td>27.963673</td>\n",
       "      <td>36.079596</td>\n",
       "      <td>27.690086</td>\n",
       "      <td>3.227255</td>\n",
       "      <td>86.857595</td>\n",
       "      <td>16.633425</td>\n",
       "    </tr>\n",
       "    <tr>\n",
       "      <th>min</th>\n",
       "      <td>7.000000</td>\n",
       "      <td>98.000000</td>\n",
       "      <td>-59.700000</td>\n",
       "      <td>-89.700000</td>\n",
       "      <td>1.000000</td>\n",
       "      <td>0.000000</td>\n",
       "      <td>0.000000</td>\n",
       "      <td>0.000000</td>\n",
       "    </tr>\n",
       "    <tr>\n",
       "      <th>25%</th>\n",
       "      <td>34.000000</td>\n",
       "      <td>5301.000000</td>\n",
       "      <td>-54.650000</td>\n",
       "      <td>-83.800000</td>\n",
       "      <td>1.000000</td>\n",
       "      <td>0.010000</td>\n",
       "      <td>113.500000</td>\n",
       "      <td>13.000000</td>\n",
       "    </tr>\n",
       "    <tr>\n",
       "      <th>50%</th>\n",
       "      <td>159.000000</td>\n",
       "      <td>13647.000000</td>\n",
       "      <td>-41.800000</td>\n",
       "      <td>-71.900000</td>\n",
       "      <td>8.000000</td>\n",
       "      <td>0.080000</td>\n",
       "      <td>250.000000</td>\n",
       "      <td>27.000000</td>\n",
       "    </tr>\n",
       "    <tr>\n",
       "      <th>75%</th>\n",
       "      <td>537.000000</td>\n",
       "      <td>23420.000000</td>\n",
       "      <td>-6.800000</td>\n",
       "      <td>-27.300000</td>\n",
       "      <td>42.500000</td>\n",
       "      <td>0.765000</td>\n",
       "      <td>265.000000</td>\n",
       "      <td>40.500000</td>\n",
       "    </tr>\n",
       "    <tr>\n",
       "      <th>max</th>\n",
       "      <td>1006.000000</td>\n",
       "      <td>34047.000000</td>\n",
       "      <td>21.200000</td>\n",
       "      <td>14.200000</td>\n",
       "      <td>98.000000</td>\n",
       "      <td>10.280000</td>\n",
       "      <td>348.000000</td>\n",
       "      <td>64.000000</td>\n",
       "    </tr>\n",
       "  </tbody>\n",
       "</table>\n",
       "</div>"
      ],
      "text/plain": [
       "              PRES          HGHT       TEMP       DWPT       RELH       MIXR  \\\n",
       "count    71.000000     71.000000  71.000000  71.000000  71.000000  71.000000   \n",
       "mean    306.752113  14651.605634 -31.460563 -52.661972  23.126761   1.737324   \n",
       "std     327.126598  10264.059724  27.963673  36.079596  27.690086   3.227255   \n",
       "min       7.000000     98.000000 -59.700000 -89.700000   1.000000   0.000000   \n",
       "25%      34.000000   5301.000000 -54.650000 -83.800000   1.000000   0.010000   \n",
       "50%     159.000000  13647.000000 -41.800000 -71.900000   8.000000   0.080000   \n",
       "75%     537.000000  23420.000000  -6.800000 -27.300000  42.500000   0.765000   \n",
       "max    1006.000000  34047.000000  21.200000  14.200000  98.000000  10.280000   \n",
       "\n",
       "             DRCT       SKNT  \n",
       "count   71.000000  71.000000  \n",
       "mean   199.760563  27.605634  \n",
       "std     86.857595  16.633425  \n",
       "min      0.000000   0.000000  \n",
       "25%    113.500000  13.000000  \n",
       "50%    250.000000  27.000000  \n",
       "75%    265.000000  40.500000  \n",
       "max    348.000000  64.000000  "
      ]
     },
     "execution_count": 40,
     "metadata": {},
     "output_type": "execute_result"
    }
   ],
   "source": [
    "dfJ1.describe()"
   ]
  },
  {
   "cell_type": "code",
   "execution_count": null,
   "metadata": {
    "collapsed": true
   },
   "outputs": [],
   "source": []
  }
 ],
 "metadata": {
  "kernelspec": {
   "display_name": "Python 3",
   "language": "python",
   "name": "python3"
  },
  "language_info": {
   "codemirror_mode": {
    "name": "ipython",
    "version": 3
   },
   "file_extension": ".py",
   "mimetype": "text/x-python",
   "name": "python",
   "nbconvert_exporter": "python",
   "pygments_lexer": "ipython3",
   "version": "3.6.3"
  }
 },
 "nbformat": 4,
 "nbformat_minor": 2
}
