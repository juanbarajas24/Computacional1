{
 "cells": [
  {
   "cell_type": "code",
   "execution_count": 1,
   "metadata": {},
   "outputs": [],
   "source": [
    "#!python\n",
    "from numpy import *\n",
    "import pylab as p\n",
    "# Definition of parameters\n",
    "m=0.01\n",
    "def dX_dt(X, t=0):\n",
    "    \"\"\" Return the growth rate of fox and rabbit populations. \"\"\"\n",
    "    return array([ X[0],\n",
    "                    m * (1 - x**2.0 ) * X[0] - x ])"
   ]
  },
  {
   "cell_type": "code",
   "execution_count": 2,
   "metadata": {},
   "outputs": [
    {
     "data": {
      "text/plain": [
       "True"
      ]
     },
     "execution_count": 2,
     "metadata": {},
     "output_type": "execute_result"
    }
   ],
   "source": [
    "#!python\n",
    "X_f0 = array([     0. ,  0.])\n",
    "X_f1 = array([ c/(d*b), a/b])\n",
    "all(dX_dt(X_f0) == zeros(2) ) and all(dX_dt(X_f1) == zeros(2)) # => True"
   ]
  },
  {
   "cell_type": "code",
   "execution_count": 3,
   "metadata": {},
   "outputs": [],
   "source": [
    "#!python\n",
    "def d2X_dt2(X, t=0):\n",
    "    \"\"\" Return the Jacobian matrix evaluated in X. \"\"\"\n",
    "    return array([[a -b*X[1],   -b*X[0]     ],\n",
    "                  [b*d*X[1] ,   -c +b*d*X[0]] ])"
   ]
  },
  {
   "cell_type": "code",
   "execution_count": 4,
   "metadata": {},
   "outputs": [],
   "source": [
    "#! python\n",
    "A_f0 = d2X_dt2(X_f0)                    # >>> array([[ 1. , -0. ],\n",
    "                                        #            [ 0. , -1.5]])"
   ]
  },
  {
   "cell_type": "code",
   "execution_count": 5,
   "metadata": {},
   "outputs": [],
   "source": [
    "#!python\n",
    "A_f1 = d2X_dt2(X_f1)                    # >>> array([[ 0.  , -2.  ],\n",
    "                                        #            [ 0.75,  0.  ]])\n",
    "# whose eigenvalues are +/- sqrt(c*a).j:\n",
    "lambda1, lambda2 = linalg.eigvals(A_f1) # >>> (1.22474j, -1.22474j)\n",
    "# They are imaginary numbers. The fox and rabbit populations are periodic as follows from further\n",
    "# analysis. Their period is given by:\n",
    "T_f1 = 2*pi/abs(lambda1)                # >>> 5.130199"
   ]
  },
  {
   "cell_type": "code",
   "execution_count": 6,
   "metadata": {},
   "outputs": [
    {
     "data": {
      "text/plain": [
       "'Integration successful.'"
      ]
     },
     "execution_count": 6,
     "metadata": {},
     "output_type": "execute_result"
    }
   ],
   "source": [
    "#!python\n",
    "from scipy import integrate\n",
    "t = linspace(0, 15,  1000)              # time\n",
    "X0 = array([10, 5])                     # initials conditions: 10 rabbits and 5 foxes\n",
    "X, infodict = integrate.odeint(dX_dt, X0, t, full_output=True)\n",
    "infodict['message']                     # >>> 'Integration successful.'"
   ]
  },
  {
   "cell_type": "code",
   "execution_count": 7,
   "metadata": {},
   "outputs": [],
   "source": [
    "#!python\n",
    "rabbits, foxes = X.T\n",
    "f1 = p.figure()\n",
    "p.plot(t, rabbits, 'r-', label='Rabbits')\n",
    "p.plot(t, foxes  , 'b-', label='Foxes')\n",
    "p.grid()\n",
    "p.legend(loc='best')\n",
    "p.xlabel('time')\n",
    "p.ylabel('population')\n",
    "p.title('Evolution of fox and rabbit populations')\n",
    "f1.savefig('rabbits_and_foxes_1.png')"
   ]
  },
  {
   "cell_type": "code",
   "execution_count": 8,
   "metadata": {},
   "outputs": [],
   "source": [
    "values  = linspace(0.3, 0.9, 5)                          # position of X0 between X_f0 and X_f1\n",
    "vcolors = p.cm.autumn_r(linspace(0.3, 1., len(values)))  # colors for each trajectory\n",
    "\n",
    "f2 = p.figure()\n",
    "\n",
    "#-------------------------------------------------------\n",
    "# plot trajectories\n",
    "for v, col in zip(values, vcolors):\n",
    "    X0 = v * X_f1                               # starting point\n",
    "    X = integrate.odeint( dX_dt, X0, t)         # we don't need infodict here\n",
    "    p.plot( X[:,0], X[:,1], lw=3.5*v, color=col, label='X0=(%.f, %.f)' % ( X0[0], X0[1]) )\n",
    "\n",
    "#-------------------------------------------------------\n",
    "# define a grid and compute direction at each point\n",
    "ymax = p.ylim(ymin=0)[1]                        # get axis limits\n",
    "xmax = p.xlim(xmin=0)[1]\n",
    "nb_points   = 20\n",
    "\n",
    "x = linspace(0, xmax, nb_points)\n",
    "y = linspace(0, ymax, nb_points)\n",
    "\n",
    "X1 , Y1  = meshgrid(x, y)                       # create a grid\n",
    "DX1, DY1 = dX_dt([X1, Y1])                      # compute growth rate on the gridt\n",
    "M = (hypot(DX1, DY1))                           # Norm of the growth rate \n",
    "M[ M == 0] = 1.                                 # Avoid zero division errors \n",
    "DX1 /= M                                        # Normalize each arrows\n",
    "DY1 /= M\n",
    "\n",
    "#-------------------------------------------------------\n",
    "# Drow direction fields, using matplotlib 's quiver function\n",
    "# I choose to plot normalized arrows and to use colors to give information on\n",
    "# the growth speed\n",
    "p.title('Trajectories and direction fields')\n",
    "Q = p.quiver(X1, Y1, DX1, DY1, M, pivot='mid', cmap=p.cm.jet)\n",
    "p.xlabel('Number of rabbits')\n",
    "p.ylabel('Number of foxes')\n",
    "p.legend()\n",
    "p.grid()\n",
    "p.xlim(0, xmax)\n",
    "p.ylim(0, ymax)\n",
    "f2.savefig('rabbits_and_foxes_2.png')"
   ]
  },
  {
   "cell_type": "code",
   "execution_count": null,
   "metadata": {},
   "outputs": [],
   "source": []
  }
 ],
 "metadata": {
  "kernelspec": {
   "display_name": "Python 3",
   "language": "python",
   "name": "python3"
  },
  "language_info": {
   "codemirror_mode": {
    "name": "ipython",
    "version": 3
   },
   "file_extension": ".py",
   "mimetype": "text/x-python",
   "name": "python",
   "nbconvert_exporter": "python",
   "pygments_lexer": "ipython3",
   "version": "3.6.3"
  }
 },
 "nbformat": 4,
 "nbformat_minor": 2
}
